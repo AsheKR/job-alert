{
 "cells": [
  {
   "cell_type": "code",
   "execution_count": 1,
   "metadata": {},
   "outputs": [],
   "source": [
    "BASE_URL = 'http://www.saramin.co.kr'\n",
    "SEARCH_URL = '/zf_user/search/get-recruit-list'\n",
    "\n",
    "keywords = [\n",
    "    ('searchType', 'search'),\n",
    "    ('searchword', 'django'),\n",
    "    ('search_optional_item', 'y'),\n",
    "    ('search_done', 'y'),\n",
    "    ('panel_count', 'y'),\n",
    "    ('recruitPage', '1'),\n",
    "    ('recruitSort', 'edit_dt'),\n",
    "    ('recruitPageCount', '40'),\n",
    "    ('mainSearch', 'n'),\n",
    "]"
   ]
  },
  {
   "cell_type": "code",
   "execution_count": 2,
   "metadata": {},
   "outputs": [],
   "source": [
    "import requests\n",
    "\n",
    "response = requests.get(BASE_URL + SEARCH_URL, params=keywords)"
   ]
  },
  {
   "cell_type": "code",
   "execution_count": 8,
   "metadata": {},
   "outputs": [],
   "source": [
    "import json\n",
    "\n",
    "response_dict = json.loads(response.content)"
   ]
  },
  {
   "cell_type": "code",
   "execution_count": 10,
   "metadata": {},
   "outputs": [],
   "source": [
    "from bs4 import BeautifulSoup\n",
    "\n",
    "soup = BeautifulSoup(response_dict.get('innerHTML'), 'html.parser')"
   ]
  },
  {
   "cell_type": "code",
   "execution_count": 16,
   "metadata": {},
   "outputs": [],
   "source": [
    "company_list_soup = soup.select('.item_recruit')"
   ]
  },
  {
   "cell_type": "code",
   "execution_count": 25,
   "metadata": {},
   "outputs": [
    {
     "name": "stdout",
     "output_type": "stream",
     "text": [
      "{'company_id': '38404166', 'company_name': '(주)소리자바', 'company_url': '/zf_user/jobs/relay/view?view_type=search&rec_idx=38404166&location=ts&searchword=django&searchType=search&paid_fl=n'}\n",
      "<div class=\"item_recruit\" value=\"38404166\">\n",
      "<div class=\"area_job\">\n",
      "<h2 class=\"job_tit\">\n",
      "<a class=\"\" href=\"/zf_user/jobs/relay/view?view_type=search&amp;rec_idx=38404166&amp;location=ts&amp;searchword=django&amp;searchType=search&amp;paid_fl=n\" onclick=\"try{s_trackApply(this, 'search', 'generic')}catch(e){};\" rel=\"\" target=\"_blank\" title=\"하반기 각 부문별 신입/경력사원 채용\"><span>하반기 각 부문별 신입/경력사원 채용</span></a> </h2>\n",
      "<div class=\"toolTipWrap wrap_scrap\">\n",
      "<a class=\"icon_scrap_star\" onclick=\"Saramin.btnJob('scrap',this,'','list');\" onmouseout=\"Saramin.favorTooltip(this, 'off');\" onmouseover=\"Saramin.favorTooltip(this, 'on');\" rec_idx=\"38404166\" scraped=\"n\" style=\"cursor:pointer\" title=\"스크랩\">\n",
      "<img alt=\"스크랩\" src=\"//www.saraminimage.co.kr/common/bul_sri_star.png\"/>\n",
      "</a>\n",
      "<div class=\"toolTip sri_tooltip_scrap\">\n",
      "<span class=\"tail tail_bottom_center\"></span>\n",
      "<div class=\"toolTipCont txtCenter\">스크랩</div>\n",
      "</div>\n",
      "</div>\n",
      "<div class=\"job_date\">\n",
      "<span class=\"date\">~ 07/20(월)</span>\n",
      "<button class=\"sri_btn_xs\" onclick=\"try{quickApplyForm('38404166','','t_category=search&amp;t_content=generic&amp;t_scnid=', 'searchType=search&amp;searchword=django'); return false;} catch (e) {}; return false;\" onmousedown=\"try{n_trackEvent('apply','list','quick_apply');}catch(e){}\" title=\"클릭하면 입사지원할 수 있는 창이 뜹니다.\"><span class=\"sri_btn_immediately\">즉시지원</span></button> </div>\n",
      "<div class=\"job_condition\">\n",
      "<span><a href=\"/zf_user/area-recruit/area-list/area/101000/areamode/mcode\" target=\"_blank\">서울</a> <a href=\"/zf_user/area-recruit/area-list/area/101010\" target=\"_blank\">강남구</a></span> <span>신입·경력</span> <span>학력무관</span> <span>정규직</span> </div>\n",
      "<div class=\"job_sector\">\n",
      "<a href=\"/zf_user/jobs/list/industry?ind_key=80208\" target=\"_blank\">IT·통신기기판매</a>, <a href=\"/zf_user/jobs/list/job-category?cat_key=40201\" target=\"_blank\">서버관리</a>,  <a href=\"/zf_user/jobs/list/job-category?cat_key=40203\" target=\"_blank\">네트워크관리</a> 외                        <dl class=\"job_keyword\">\n",
      "<dt><b class=\"keyword\">'django'</b> 검색위치</dt>\n",
      "<dd>\n",
      "<span title=\"완전 일치 영역\">공고 내용</span>\n",
      "</dd>\n",
      "</dl>\n",
      "</div>\n",
      "</div>\n",
      "<div class=\"area_corp\">\n",
      "<strong class=\"corp_name\"><a class=\"\" href=\"/zf_user/jobs/relay/view?view_type=search&amp;rec_idx=38404166&amp;location=ts&amp;searchword=django&amp;searchType=search&amp;paid_fl=n\" onclick=\"try{s_trackApply(this, 'search', 'generic')}catch(e){};\" rel=\"\" target=\"_blank\" title=\"(주)소리자바\"><span>(주)소리자바</span></a> </strong>\n",
      "<div class=\"toolTipWrap wrap_interested_corp\"><button class=\"interested_corp\" csn=\"2068158545\" del_fl=\"n\" first_nudge=\"off\" onclick=\"try{Saramin.btnJob('favor', this, '', 'list');}catch(e){}\" onmouseout=\"Saramin.favorTooltip(this, 'off');\" onmouseover=\"Saramin.favorTooltip(this, 'on');\" title=\"관심기업 등록\" type=\"button\"><span>관심기업 등록</span></button><div class=\"toolTip\"><span class=\"tail tail_bottom_center\"></span><div class=\"toolTipCont txtCenter\">관심기업 등록</div></div></div> <div class=\"area_btn\" value=\"2068158545\">\n",
      "<div class=\"area_corp_info\">\n",
      "<a class=\"btn_info track_event company_popup\" data-track_event=\"total_search|search_recruit|com_info_btn\" href=\"/zf_user/company-info/view?csn=2068158545\" target=\"_blank\">\r\n",
      "                                기업정보\r\n",
      "                            </a>\n",
      "<div class=\"lpop_corp_info area_preview\">\n",
      "</div>\n",
      "</div>\n",
      "<button class=\"btn_recruit track_event\" data-track_event=\"total_search|search_recruit|com_recruit_collect_btn\" type=\"button\">공고 모아보기 +</button>\n",
      "</div>\n",
      "</div>\n",
      "<div class=\"similar_recruit\"></div>\n",
      "</div>\n"
     ]
    }
   ],
   "source": [
    "for company_soup in company_list_soup:\n",
    "    company_id = company_soup.attrs.get('value')\n",
    "    company_name = company_soup.select_one('.area_corp > strong.corp_name > a > span').text.strip()\n",
    "    company_url = company_soup.select_one('.area_corp > strong.corp_name > a').attrs.get('href')\n",
    "    \n",
    "    company_detail_table_soup = company_soup.select_one('.area_corp > .area_btn > .area_corp_info > .lpop_corp_info area_preview > table.corp_info')    \n",
    "    company_installation_date = company_detail_soup.select_one('tr:nth-child(0) > td').text\n",
    "    company_ceo_name = company_detail_soup.select_one('tr:nth-child(1) > td').text\n",
    "    company_type = company_detailSoup.select_one('tr:nth- hild(2) > td').text\n",
    "    company_매출액 = company_detailSoup.select_one('tr:nth- hild(3) > td').text\n",
    "    company_address = company_detailSoup.select_one('tr:nth- hild(4) > td').text\n",
    "    \n",
    "    job_title_href = company_soup.select_one('.area_job > h2.job_tit > a').attrs.get('href')\n",
    "    job_title = company_soup.select_one('.area_job > h2.job_tit > a > span').text\n",
    "    \n",
    "    job_due_date = company_soup.get('.area_job > .job_date > .date').text\n",
    "    \n",
    "    job_meta = [\n",
    "        meta.text\n",
    "        for meta in company_soup.select('.area_job > .job_condition > span')\n",
    "    ]\n",
    "    \n",
    "    company_dict = {\n",
    "        'company_id': company_id,\n",
    "        'company_name': company_name,\n",
    "        'company_url': company_url,\n",
    "    }\n",
    "    \n",
    "    print(company_dict)\n",
    "    \n",
    "    print(company_soup)\n",
    "    break"
   ]
  },
  {
   "cell_type": "code",
   "execution_count": null,
   "metadata": {},
   "outputs": [],
   "source": []
  }
 ],
 "metadata": {
  "kernelspec": {
   "display_name": "Python 3",
   "language": "python",
   "name": "python3"
  },
  "language_info": {
   "codemirror_mode": {
    "name": "ipython",
    "version": 3
   },
   "file_extension": ".py",
   "mimetype": "text/x-python",
   "name": "python",
   "nbconvert_exporter": "python",
   "pygments_lexer": "ipython3",
   "version": "3.8.2"
  }
 },
 "nbformat": 4,
 "nbformat_minor": 4
}
